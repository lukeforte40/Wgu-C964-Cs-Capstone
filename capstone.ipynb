{
 "cells": [
  {
   "cell_type": "code",
   "execution_count": null,
   "metadata": {},
   "outputs": [
    {
     "data": {
      "image/png": "[encoded data removed]",
      "text/plain": [
       "<Figure size 640x480 with 1 Axes>"
      ]
     },
     "metadata": {},
     "output_type": "display_data"
    },
    {
     "data": {
      "text/plain": [
       "'\\n# Function to perform sentiment analysis\\ndef analyze_sentiment(text):\\n    words = text.lower().split()\\n\\n    #Initialize a sentiment score to keep track of the sentiment of the text.\\n    sentiment_score = 0\\n\\n    # Count positive and negative words #Loop through the words in the preprocessed text and adjust the sentiment score based on the presence of words in positive and negative lists.\\n    for word in words:\\n        if word in positive_words:\\n            sentiment_score += 1\\n        elif word in negative_words:\\n            sentiment_score -= 1\\n\\n    # Classify sentiment based on score\\n    if sentiment_score > 0:\\n        return \"Positive\"\\n    elif sentiment_score < 0:\\n        return \"Negative\"\\n    else:\\n        return \"Neutral\"\\n\\n# Input loop to start program\\nrun = 1\\nwhile run:\\n    input_text = input(\"Write a sentence to analyze (Type \\'exit\\' to close):\")\\n    if input_text != \"exit\":\\n        sentiment = analyze_sentiment(input_text)\\n        print(f\"Sentiment: {sentiment}\")\\n    else:\\n        run = 0'"
      ]
     },
     "execution_count": 4,
     "metadata": {},
     "output_type": "execute_result"
    }
   ],
   "source": [
    "import pandas as pd\n",
    "from matplotlib import pyplot\n",
    "import csv\n",
    "import os\n",
    "\n",
    "# Read the positive and negative text files into lists with the correct encoding\n",
    "with open('data/positive-words.txt', 'r', encoding='ISO-8859-1') as file:\n",
    "    positive_words = file.read().splitlines()\n",
    "\n",
    "with open('data/negative-words.txt', 'r', encoding='ISO-8859-1') as file:\n",
    "    negative_words = file.read().splitlines()\n",
    "\n",
    "# create words list and add words and sentiment score to it\n",
    "\n",
    "words = []\n",
    "\n",
    "for word in positive_words:\n",
    "    data = [{\"word\": str(word), \"sentimentScore\": 1}]\n",
    "    words = words + data\n",
    "\n",
    "for word in negative_words:\n",
    "    data = [{\"word\": str(word), \"sentimentScore\": -1}]\n",
    "    words = words + data\n",
    "\n",
    "# create and add words to csv file\n",
    "\n",
    "file_path = \"data/words.csv\"\n",
    "\n",
    "if os.path.exists(file_path):\n",
    "    os.remove(file_path)\n",
    "\n",
    "with open(file_path, 'w', newline='') as csvFile:\n",
    "    fieldnames = ['word',\"sentimentScore\"]\n",
    "    writer = csv.DictWriter(csvFile, fieldnames=fieldnames)\n",
    "    writer.writeheader()\n",
    "    writer.writerows(words)\n",
    "\n",
    "# Create dataframe for words and tweets\n",
    "df_words = pd.read_csv(file_path)\n",
    "\n",
    "df_Tweets = pd.read_csv(\"data/test.csv\")\n",
    "\n",
    "#create histogram for words\n",
    "\n",
    "df_words.hist()\n",
    "\n",
    "# Function to perform sentiment analysis\n",
    "def analyze_sentiment(text):\n",
    "    sentence = text.lower().split()\n",
    "    \n",
    "    #Initialize a sentiment score to keep track of the sentiment of the text.\n",
    "    sentiment_score = 0\n",
    "\n",
    "    #Loop through the words in the preprocessed text and adjust the sentiment score based on the presence of words in sentence.\n",
    "    for word in sentence:\n",
    "        matching_rows = []\n",
    "        with open(file_path, 'r', newline='') as csvFile:\n",
    "            csv_reader = csv.reader(csvFile)\n",
    "            for row in csv_reader:\n",
    "                if any(word in field for field in row):\n",
    "                    matching_rows.append(row)\n",
    "    \n",
    "    #Loop through the matching rows and add up the sentiment score\n",
    "    for row in matching_rows:\n",
    "        sentiment_score += int(row[1])\n",
    "\n",
    "    # Classify sentiment based on score\n",
    "    if sentiment_score > 0:\n",
    "        return \"Positive\"\n",
    "    elif sentiment_score < 0:\n",
    "        return \"Negative\"\n",
    "    else:\n",
    "        return \"Neutral\"\n",
    "    \n",
    "# Input loop to start program\n",
    "run = 1\n",
    "while run:\n",
    "    input_text = input(\"Write a sentence to analyze (Type 'exit' to close):\")\n",
    "    if input_text != \"exit\":\n",
    "        sentiment = analyze_sentiment(input_text)\n",
    "        print(f\"Sentiment: {sentiment}\")\n",
    "    else:\n",
    "        run = 0"
   ]
  }
 ],
 "metadata": {
  "kernelspec": {
   "display_name": ".venv",
   "language": "python",
   "name": "python3"
  },
  "language_info": {
   "codemirror_mode": {
    "name": "ipython",
    "version": 3
   },
   "file_extension": ".py",
   "mimetype": "text/x-python",
   "name": "python",
   "nbconvert_exporter": "python",
   "pygments_lexer": "ipython3",
   "version": "3.11.2"
  }
 },
 "nbformat": 4,
 "nbformat_minor": 2
}
